{
 "cells": [
  {
   "cell_type": "code",
   "execution_count": 42,
   "metadata": {},
   "outputs": [],
   "source": [
    "import pandas as pd\n",
    "import numpy as np"
   ]
  },
  {
   "cell_type": "code",
   "execution_count": 89,
   "metadata": {},
   "outputs": [],
   "source": [
    "data = pd.read_csv(\"results/identify_associations/results_sig_assoc.tsv\", sep=\"\\t\")"
   ]
  },
  {
   "cell_type": "code",
   "execution_count": 149,
   "metadata": {},
   "outputs": [
    {
     "data": {
      "text/html": [
       "<div>\n",
       "<style scoped>\n",
       "    .dataframe tbody tr th:only-of-type {\n",
       "        vertical-align: middle;\n",
       "    }\n",
       "\n",
       "    .dataframe tbody tr th {\n",
       "        vertical-align: top;\n",
       "    }\n",
       "\n",
       "    .dataframe thead th {\n",
       "        text-align: right;\n",
       "    }\n",
       "</style>\n",
       "<table border=\"1\" class=\"dataframe\">\n",
       "  <thead>\n",
       "    <tr style=\"text-align: right;\">\n",
       "      <th></th>\n",
       "      <th>feature_a_id</th>\n",
       "      <th>feature_b_id</th>\n",
       "      <th>feature_a_name</th>\n",
       "      <th>feature_b_name</th>\n",
       "      <th>feature_b_dataset</th>\n",
       "      <th>proba</th>\n",
       "      <th>fdr</th>\n",
       "      <th>bayes_k</th>\n",
       "    </tr>\n",
       "  </thead>\n",
       "  <tbody>\n",
       "    <tr>\n",
       "      <th>2</th>\n",
       "      <td>9</td>\n",
       "      <td>89</td>\n",
       "      <td>drugs_10</td>\n",
       "      <td>proteomics_90</td>\n",
       "      <td>random.small.proteomics</td>\n",
       "      <td>1.000000</td>\n",
       "      <td>1.000000e-08</td>\n",
       "      <td>18.420681</td>\n",
       "    </tr>\n",
       "    <tr>\n",
       "      <th>77</th>\n",
       "      <td>9</td>\n",
       "      <td>345</td>\n",
       "      <td>drugs_10</td>\n",
       "      <td>metagenomics_146</td>\n",
       "      <td>random.small.metagenomics</td>\n",
       "      <td>0.954424</td>\n",
       "      <td>2.057010e-02</td>\n",
       "      <td>-3.041717</td>\n",
       "    </tr>\n",
       "    <tr>\n",
       "      <th>78</th>\n",
       "      <td>9</td>\n",
       "      <td>154</td>\n",
       "      <td>drugs_10</td>\n",
       "      <td>proteomics_155</td>\n",
       "      <td>random.small.proteomics</td>\n",
       "      <td>0.953727</td>\n",
       "      <td>2.089544e-02</td>\n",
       "      <td>3.025830</td>\n",
       "    </tr>\n",
       "    <tr>\n",
       "      <th>79</th>\n",
       "      <td>9</td>\n",
       "      <td>1099</td>\n",
       "      <td>drugs_10</td>\n",
       "      <td>metagenomics_900</td>\n",
       "      <td>random.small.metagenomics</td>\n",
       "      <td>0.952255</td>\n",
       "      <td>2.123107e-02</td>\n",
       "      <td>-2.992950</td>\n",
       "    </tr>\n",
       "    <tr>\n",
       "      <th>80</th>\n",
       "      <td>9</td>\n",
       "      <td>521</td>\n",
       "      <td>drugs_10</td>\n",
       "      <td>metagenomics_322</td>\n",
       "      <td>random.small.metagenomics</td>\n",
       "      <td>0.951282</td>\n",
       "      <td>2.157041e-02</td>\n",
       "      <td>-2.971763</td>\n",
       "    </tr>\n",
       "    <tr>\n",
       "      <th>81</th>\n",
       "      <td>9</td>\n",
       "      <td>186</td>\n",
       "      <td>drugs_10</td>\n",
       "      <td>proteomics_187</td>\n",
       "      <td>random.small.proteomics</td>\n",
       "      <td>0.951220</td>\n",
       "      <td>2.190224e-02</td>\n",
       "      <td>2.970414</td>\n",
       "    </tr>\n",
       "    <tr>\n",
       "      <th>82</th>\n",
       "      <td>9</td>\n",
       "      <td>41</td>\n",
       "      <td>drugs_10</td>\n",
       "      <td>proteomics_42</td>\n",
       "      <td>random.small.proteomics</td>\n",
       "      <td>0.951087</td>\n",
       "      <td>2.222767e-02</td>\n",
       "      <td>2.967561</td>\n",
       "    </tr>\n",
       "    <tr>\n",
       "      <th>83</th>\n",
       "      <td>9</td>\n",
       "      <td>137</td>\n",
       "      <td>drugs_10</td>\n",
       "      <td>proteomics_138</td>\n",
       "      <td>random.small.proteomics</td>\n",
       "      <td>0.945559</td>\n",
       "      <td>2.261117e-02</td>\n",
       "      <td>2.854654</td>\n",
       "    </tr>\n",
       "    <tr>\n",
       "      <th>84</th>\n",
       "      <td>9</td>\n",
       "      <td>485</td>\n",
       "      <td>drugs_10</td>\n",
       "      <td>metagenomics_286</td>\n",
       "      <td>random.small.metagenomics</td>\n",
       "      <td>0.944591</td>\n",
       "      <td>2.299703e-02</td>\n",
       "      <td>2.836010</td>\n",
       "    </tr>\n",
       "  </tbody>\n",
       "</table>\n",
       "</div>"
      ],
      "text/plain": [
       "    feature_a_id  feature_b_id feature_a_name    feature_b_name  \\\n",
       "2              9            89       drugs_10     proteomics_90   \n",
       "77             9           345       drugs_10  metagenomics_146   \n",
       "78             9           154       drugs_10    proteomics_155   \n",
       "79             9          1099       drugs_10  metagenomics_900   \n",
       "80             9           521       drugs_10  metagenomics_322   \n",
       "81             9           186       drugs_10    proteomics_187   \n",
       "82             9            41       drugs_10     proteomics_42   \n",
       "83             9           137       drugs_10    proteomics_138   \n",
       "84             9           485       drugs_10  metagenomics_286   \n",
       "\n",
       "            feature_b_dataset     proba           fdr    bayes_k  \n",
       "2     random.small.proteomics  1.000000  1.000000e-08  18.420681  \n",
       "77  random.small.metagenomics  0.954424  2.057010e-02  -3.041717  \n",
       "78    random.small.proteomics  0.953727  2.089544e-02   3.025830  \n",
       "79  random.small.metagenomics  0.952255  2.123107e-02  -2.992950  \n",
       "80  random.small.metagenomics  0.951282  2.157041e-02  -2.971763  \n",
       "81    random.small.proteomics  0.951220  2.190224e-02   2.970414  \n",
       "82    random.small.proteomics  0.951087  2.222767e-02   2.967561  \n",
       "83    random.small.proteomics  0.945559  2.261117e-02   2.854654  \n",
       "84  random.small.metagenomics  0.944591  2.299703e-02   2.836010  "
      ]
     },
     "execution_count": 149,
     "metadata": {},
     "output_type": "execute_result"
    }
   ],
   "source": [
    "data[lambda x: x.feature_a_id == 9].head(10)"
   ]
  },
  {
   "cell_type": "code",
   "execution_count": 120,
   "metadata": {},
   "outputs": [],
   "source": [
    "from pathlib import Path\n",
    "import torch\n",
    "import hydra\n",
    "from move.data import io\n",
    "from move.data.dataloaders import make_dataloader\n",
    "from move.data.perturbations import perturb_categorical_data\n",
    "\n",
    "cfg = io.read_config(\"random_small\", \"random_small__latent\")\n",
    "\n",
    "cat_list, cat_names, con_list, con_names = io.load_preprocessed_data(\n",
    "    Path(cfg.data.interim_data_path),\n",
    "    cfg.data.categorical_names,\n",
    "    cfg.data.continuous_names,\n",
    ")\n",
    "\n",
    "baseline_dataloader = make_dataloader(\n",
    "    cat_list,\n",
    "    con_list,\n",
    "    shuffle=False,\n",
    "    batch_size=cfg.task.batch_size,\n",
    ")\n",
    "baseline_dataset = baseline_dataloader.dataset\n",
    "\n",
    "dataloaders = perturb_categorical_data(\n",
    "    baseline_dataloader,\n",
    "    cfg.data.categorical_names,\n",
    "    \"random.small.drugs\",\n",
    "    np.array([0, 1]),\n",
    ")"
   ]
  },
  {
   "cell_type": "code",
   "execution_count": 101,
   "metadata": {},
   "outputs": [
    {
     "data": {
      "text/plain": [
       "VAE (1240 ⇄ 1000 ⇄ 150)"
      ]
     },
     "execution_count": 101,
     "metadata": {},
     "output_type": "execute_result"
    }
   ],
   "source": [
    "model = hydra.utils.instantiate(\n",
    "    cfg.task.model,\n",
    "    continuous_shapes=baseline_dataset.con_shapes,\n",
    "    categorical_shapes=baseline_dataset.cat_shapes,\n",
    ")\n",
    "# requiere modelo entrenado\n",
    "model.load_state_dict(torch.load(\"results/latent_space/model.pt\"))\n",
    "model.eval()"
   ]
  },
  {
   "cell_type": "code",
   "execution_count": 159,
   "metadata": {},
   "outputs": [],
   "source": [
    "drug_idx = 9\n",
    "\n",
    "_, baseline_recon = model.reconstruct(baseline_dataloader)\n",
    "_, perturb_recon = model.reconstruct(dataloaders[drug_idx])\n",
    "diff = (perturb_recon - baseline_recon)"
   ]
  },
  {
   "cell_type": "code",
   "execution_count": 130,
   "metadata": {},
   "outputs": [],
   "source": [
    "feature_mask = np.all(cat_list[0] == [0, 1], axis=2)\n",
    "feature_mask |= np.sum(cat_list[0], axis=2) == 0"
   ]
  },
  {
   "cell_type": "code",
   "execution_count": 172,
   "metadata": {},
   "outputs": [
    {
     "data": {
      "image/png": "[encoded data removed]",
      "text/plain": [
       "<Figure size 576x576 with 4 Axes>"
      ]
     },
     "metadata": {
      "needs_background": "light"
     },
     "output_type": "display_data"
    }
   ],
   "source": [
    "import matplotlib.pyplot as plt\n",
    "\n",
    "# Mirar tabla de arriba para cambiar 'feature_idx'\n",
    "# y hacer plots para ver como el signo de K mueve\n",
    "# la distribución hacia la derecha/izquierda del 0\n",
    "subset = data[lambda x: x.feature_a_id == drug_idx]\n",
    "\n",
    "feature_ids = subset[\"feature_b_id\"][:4]\n",
    "signs = np.sign(subset[\"bayes_k\"][:4])\n",
    "mask = feature_mask[:, drug_idx]\n",
    "\n",
    "fig, axs = plt.subplots(nrows=2, ncols=2, figsize=(8, 8))\n",
    "\n",
    "for ax, feature_idx, sign in zip(axs.flatten(), feature_ids, signs):\n",
    "    color = \"b\" if sign > 0 else \"r\"\n",
    "    ax.hist(diff[:, feature_idx][~mask], histtype='step', color=color)\n",
    "    ax.axvline(x=0, color=\"k\", linestyle=\":\")\n",
    "\n",
    "fig.savefig(\"pau.png\")"
   ]
  }
 ],
 "metadata": {
  "language_info": {
   "name": "python"
  },
  "orig_nbformat": 4
 },
 "nbformat": 4,
 "nbformat_minor": 2
}
