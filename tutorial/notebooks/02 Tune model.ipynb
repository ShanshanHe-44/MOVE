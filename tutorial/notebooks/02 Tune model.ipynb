{
 "cells": [
  {
   "cell_type": "markdown",
   "metadata": {},
   "source": [
    "## Running hyperparameter optimization - Part 1\n",
    "\n",
    "This notebook goes through the hyperparameter tuning of MOVE.\n",
    "\n",
    "The optimal settings are identified based on multiple steps cosidering both\n",
    "reconstruction on the test and training sets as well as the stability/similiarity\n",
    "of the latent space in case of repeated training. Herein, we focus on the test\n",
    "and training reconstruction accuracies.\n",
    "\n",
    "Note that because we are training multiple models and recording their metrics,\n",
    "it's best to run this task from the command line. You can do so with the\n",
    "following command*:\n",
    "\n",
    "\\* Note: the command may take a while, and will not display any progress\n",
    "message if ran directly from the notebook. However, a log file will report the \n",
    "progress."
   ]
  },
  {
   "cell_type": "code",
   "execution_count": 1,
   "metadata": {},
   "outputs": [
    {
     "name": "stderr",
     "output_type": "stream",
     "text": [
      "[INFO  - tune_model]: Beginning task: tune model 1\n",
      "[INFO  - tune_model]: Job name: task.batch_size=10,task.model.num_hidden=[500],task.training_loop.num_epochs=40\n",
      "[INFO  - tune_model]: Reconstructing\n",
      "[INFO  - tune_model]: Computing reconstruction metrics\n",
      "[INFO  - tune_model]: Writing results\n",
      "[INFO  - tune_model]: Beginning task: tune model 2\n",
      "[INFO  - tune_model]: Job name: task.batch_size=10,task.model.num_hidden=[500],task.training_loop.num_epochs=60\n",
      "[INFO  - tune_model]: Reconstructing\n",
      "[INFO  - tune_model]: Computing reconstruction metrics\n",
      "[INFO  - tune_model]: Writing results\n",
      "[INFO  - tune_model]: Beginning task: tune model 3\n",
      "[INFO  - tune_model]: Job name: task.batch_size=10,task.model.num_hidden=[500],task.training_loop.num_epochs=100\n",
      "[INFO  - tune_model]: Reconstructing\n",
      "[INFO  - tune_model]: Computing reconstruction metrics\n",
      "[INFO  - tune_model]: Writing results\n",
      "[INFO  - tune_model]: Beginning task: tune model 4\n",
      "[INFO  - tune_model]: Job name: task.batch_size=10,task.model.num_hidden=[1000],task.training_loop.num_epochs=40\n",
      "[INFO  - tune_model]: Reconstructing\n",
      "[INFO  - tune_model]: Computing reconstruction metrics\n",
      "[INFO  - tune_model]: Writing results\n",
      "[INFO  - tune_model]: Beginning task: tune model 5\n",
      "[INFO  - tune_model]: Job name: task.batch_size=10,task.model.num_hidden=[1000],task.training_loop.num_epochs=60\n",
      "[INFO  - tune_model]: Reconstructing\n",
      "[INFO  - tune_model]: Computing reconstruction metrics\n",
      "[INFO  - tune_model]: Writing results\n",
      "[INFO  - tune_model]: Beginning task: tune model 6\n",
      "[INFO  - tune_model]: Job name: task.batch_size=10,task.model.num_hidden=[1000],task.training_loop.num_epochs=100\n",
      "[INFO  - tune_model]: Reconstructing\n",
      "[INFO  - tune_model]: Computing reconstruction metrics\n",
      "[INFO  - tune_model]: Writing results\n",
      "[INFO  - tune_model]: Beginning task: tune model 7\n",
      "[INFO  - tune_model]: Job name: task.batch_size=50,task.model.num_hidden=[500],task.training_loop.num_epochs=40\n",
      "[INFO  - tune_model]: Reconstructing\n",
      "[INFO  - tune_model]: Computing reconstruction metrics\n",
      "[INFO  - tune_model]: Writing results\n",
      "[INFO  - tune_model]: Beginning task: tune model 8\n",
      "[INFO  - tune_model]: Job name: task.batch_size=50,task.model.num_hidden=[500],task.training_loop.num_epochs=60\n",
      "[INFO  - tune_model]: Reconstructing\n",
      "[INFO  - tune_model]: Computing reconstruction metrics\n",
      "[INFO  - tune_model]: Writing results\n",
      "[INFO  - tune_model]: Beginning task: tune model 9\n",
      "[INFO  - tune_model]: Job name: task.batch_size=50,task.model.num_hidden=[500],task.training_loop.num_epochs=100\n",
      "[INFO  - tune_model]: Reconstructing\n",
      "[INFO  - tune_model]: Computing reconstruction metrics\n",
      "[INFO  - tune_model]: Writing results\n",
      "[INFO  - tune_model]: Beginning task: tune model 10\n",
      "[INFO  - tune_model]: Job name: task.batch_size=50,task.model.num_hidden=[1000],task.training_loop.num_epochs=40\n",
      "[INFO  - tune_model]: Reconstructing\n",
      "[INFO  - tune_model]: Computing reconstruction metrics\n",
      "[INFO  - tune_model]: Writing results\n",
      "[INFO  - tune_model]: Beginning task: tune model 11\n",
      "[INFO  - tune_model]: Job name: task.batch_size=50,task.model.num_hidden=[1000],task.training_loop.num_epochs=60\n",
      "[INFO  - tune_model]: Reconstructing\n",
      "[INFO  - tune_model]: Computing reconstruction metrics\n",
      "[INFO  - tune_model]: Writing results\n",
      "[INFO  - tune_model]: Beginning task: tune model 12\n",
      "[INFO  - tune_model]: Job name: task.batch_size=50,task.model.num_hidden=[1000],task.training_loop.num_epochs=100\n",
      "[INFO  - tune_model]: Reconstructing\n",
      "[INFO  - tune_model]: Computing reconstruction metrics\n",
      "[INFO  - tune_model]: Writing results\n"
     ]
    }
   ],
   "source": [
    "! move-dl experiment=random_small__tune"
   ]
  },
  {
   "cell_type": "code",
   "execution_count": 6,
   "metadata": {},
   "outputs": [
    {
     "name": "stdout",
     "output_type": "stream",
     "text": [
      "/Users/wkq953/anaconda3/envs/move/lib/python3.11/site-packages/hydra/_internal/config_loader_impl.py:216: UserWarning: provider=hydra.searchpath in main, path=config/ is not available.\n",
      "  warnings.warn(\n",
      "Could not override 'experiment'.\n",
      "To append to your config use +experiment=random_small__tune_reconstruction\n",
      "Key 'experiment' is not in struct\n",
      "    full_key: experiment\n",
      "    object_type=dict\n",
      "\n",
      "Set the environment variable HYDRA_FULL_ERROR=1 for a complete stack trace.\n"
     ]
    }
   ],
   "source": [
    "! move-dl experiment=random_small__tune_reconstruction"
   ]
  },
  {
   "cell_type": "code",
   "execution_count": 5,
   "metadata": {},
   "outputs": [],
   "source": [
    "! export HYDRA_FULL_ERROR=1"
   ]
  },
  {
   "cell_type": "markdown",
   "metadata": {},
   "source": [
    "The output of the previous command is a TSV table, recording the metrics of each\n",
    " run."
   ]
  },
  {
   "cell_type": "code",
   "execution_count": 83,
   "metadata": {},
   "outputs": [],
   "source": [
    "from itertools import chain\n",
    "\n",
    "import numpy as np\n",
    "import pandas as pd\n",
    "import matplotlib.pyplot as plt\n",
    "\n",
    "results = pd.read_csv(\"../results_cont/tune_model/reconstruction_stats.tsv\", sep=\"\\t\")"
   ]
  },
  {
   "cell_type": "markdown",
   "metadata": {},
   "source": [
    "In this tutorial, we looked at different batch size and number of training\n",
    "epochs."
   ]
  },
  {
   "cell_type": "code",
   "execution_count": 86,
   "metadata": {},
   "outputs": [
    {
     "name": "stdout",
     "output_type": "stream",
     "text": [
      "    job_num  task.batch_size task.model.num_hidden  task.model.num_latent  \\\n",
      "0         1               10                 [200]                     50   \n",
      "4         2               10                 [200]                     50   \n",
      "8         3               10                 [200]                     50   \n",
      "12        4               10                 [200]                     50   \n",
      "16        5               10                 [200]                     50   \n",
      "\n",
      "    task.training_loop.num_epochs             metric  \\\n",
      "0                              25  cosine_similarity   \n",
      "4                              50  cosine_similarity   \n",
      "8                             100  cosine_similarity   \n",
      "12                            150  cosine_similarity   \n",
      "16                            200  cosine_similarity   \n",
      "\n",
      "                         dataset  split      mean       iqr      cilo  \\\n",
      "0   random.continuous.proteomics  train  0.161545  0.106002  0.156860   \n",
      "4   random.continuous.proteomics  train  0.302291  0.099174  0.295956   \n",
      "8   random.continuous.proteomics  train  0.466694  0.089305  0.460503   \n",
      "12  random.continuous.proteomics  train  0.545425  0.081110  0.539777   \n",
      "16  random.continuous.proteomics  train  0.588686  0.075715  0.582501   \n",
      "\n",
      "        cihi    whishi    whislo        q1       med        q3  \n",
      "0   0.172550  0.359235 -0.045874  0.107166  0.164705  0.213168  \n",
      "4   0.310636  0.498537  0.113735  0.252703  0.303296  0.351878  \n",
      "8   0.473723  0.638312  0.302871  0.423551  0.467113  0.512856  \n",
      "12  0.551783  0.705347  0.412736  0.504762  0.545780  0.585873  \n",
      "16  0.593708  0.737480  0.439687  0.550847  0.588105  0.626562  \n"
     ]
    }
   ],
   "source": [
    "plot_data = results[lambda df: (df[\"task.batch_size\"] == 10)] # & (df[\"task.training_loop.num_epochs\"] == 150) ]\n",
    "\n",
    "prot_g1 = plot_data[lambda df: (df[\"task.model.num_hidden\"] == \"[200]\") & (df[\"dataset\"] == \"random.continuous.proteomics\") & (df[\"split\"] == \"train\") ]\n",
    "prot_g1_stats = prot_g1.to_dict(orient=\"records\")\n",
    "\n",
    "prot_g2 = plot_data[lambda df: (df[\"task.model.num_hidden\"] == \"[200]\") & (df[\"dataset\"] == \"random.continuous.proteomics\") & (df[\"split\"] == \"test\") ]\n",
    "prot_g2_stats = prot_g2.to_dict(orient=\"records\")\n",
    "\n",
    "prot_g3 = plot_data[lambda df: (df[\"task.model.num_hidden\"] ==\"[200]\") & (df[\"dataset\"] == \"random.continuous.metagenomics\") & (df[\"split\"] == \"train\")]\n",
    "prot_g3_stats = prot_g3.to_dict(orient=\"records\")\n",
    "\n",
    "prot_g4 = plot_data[lambda df: (df[\"task.model.num_hidden\"] == \"[200]\") & (df[\"dataset\"] == \"random.continuous.metagenomics\") & (df[\"split\"] == \"test\")]\n",
    "prot_g4_stats = prot_g4.to_dict(orient=\"records\")\n",
    "\n",
    "print(prot_g1)\n",
    "# matplotlib complains if fliers are unset\n",
    "for bxp_stats in chain(prot_g1_stats, prot_g2_stats, prot_g3_stats, prot_g4_stats):\n",
    "    bxp_stats[\"fliers\"] = []"
   ]
  },
  {
   "cell_type": "code",
   "execution_count": 88,
   "metadata": {},
   "outputs": [
    {
     "data": {
      "image/png": "[encoded data removed]",
      "text/plain": [
       "<Figure size 1000x400 with 2 Axes>"
      ]
     },
     "metadata": {},
     "output_type": "display_data"
    }
   ],
   "source": [
    "fig, axs = plt.subplots(ncols=2, sharey=True, figsize=(10, 4))\n",
    "\n",
    "coll1 = axs[0].bxp(prot_g1_stats, positions=[*range(0, 10, 2)], boxprops=dict(facecolor=\"#7570b3\"), patch_artist=True)\n",
    "coll2 = axs[0].bxp(prot_g2_stats, positions=[*range(1, 10, 2)], boxprops=dict(facecolor=\"#1b9e77\"), patch_artist=True)\n",
    "\n",
    "axs[1].bxp(prot_g3_stats, positions=[*range(0, 10, 2)], boxprops=dict(facecolor=\"#7570b3\"), patch_artist=True)\n",
    "axs[1].bxp(prot_g4_stats, positions=[*range(1, 10, 2)], boxprops=dict(facecolor=\"#1b9e77\"), patch_artist=True)\n",
    "\n",
    "axs[0].set(\n",
    "    xticks=np.arange(0.5, 10, 2), xticklabels=[25, 50, 100, 150, 200], ylim=(0, 1),\n",
    "    xlabel=\"# epochs\", ylabel=\"cosine similarity\", title=\"Fixed hidden 200 latent 50 proteomics\",\n",
    ")\n",
    "axs[1].set(\n",
    "    xticks=np.arange(0.5, 10, 2), xticklabels=[25, 50, 100, 150, 200],\n",
    "    xlabel=\"# epochs\", title=\"Fixed hidden 200 latent 50 metagenomics\"\n",
    ")\n",
    "\n",
    "axs[1].legend([coll1[\"boxes\"][0], coll2[\"boxes\"][0]], [\"train\", \"test\"], title=\"split\")\n",
    "\n",
    "plt.show()"
   ]
  },
  {
   "cell_type": "markdown",
   "metadata": {},
   "source": [
    "From the above plot, we can easily see the relation between increasing the\n",
    "number of epochs and improving the accuracy of reconstructing the proteomics\n",
    "dataset. We can also see that in this case a smaller batch size is a better\n",
    "choice.\n",
    "\n",
    "The same type of plot can be generated for the other set of hyperparameters and\n",
    "datasets."
   ]
  }
 ],
 "metadata": {
  "kernelspec": {
   "display_name": "Python 3.10.8 ('move')",
   "language": "python",
   "name": "python3"
  },
  "language_info": {
   "codemirror_mode": {
    "name": "ipython",
    "version": 3
   },
   "file_extension": ".py",
   "mimetype": "text/x-python",
   "name": "python",
   "nbconvert_exporter": "python",
   "pygments_lexer": "ipython3",
   "version": "3.11.5"
  },
  "orig_nbformat": 4,
  "vscode": {
   "interpreter": {
    "hash": "fe194b1d27fbcd7437bf5eb8413313a2683e7f0cd626c1458cb32c6954f64d40"
   }
  }
 },
 "nbformat": 4,
 "nbformat_minor": 2
}
